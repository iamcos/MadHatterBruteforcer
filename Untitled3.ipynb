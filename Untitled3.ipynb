{
 "cells": [
  {
   "cell_type": "code",
   "execution_count": 28,
   "metadata": {},
   "outputs": [],
   "source": [
    "from __future__ import print_function, unicode_literals\n",
    "from haasomeapi.HaasomeClient import HaasomeClient\n",
    "from haasomeapi.enums.EnumErrorCode import EnumErrorCode\n",
    "\n",
    "\n",
    "import configparser\n",
    "import os\n",
    "import re\n",
    "import sys\n",
    "\n",
    "import time\n",
    "\n",
    "\n",
    "import init\n",
    "\n"
   ]
  },
  {
   "cell_type": "markdown",
   "metadata": {},
   "source": [
    "# Getting server data"
   ]
  },
  {
   "cell_type": "code",
   "execution_count": 29,
   "metadata": {},
   "outputs": [],
   "source": [
    "def serverdata():\n",
    "\n",
    "    ip = input('Type Server IP address: ')\n",
    "    port = input('Type server port number: ')\n",
    "    secret = input('Type api key: ')\n",
    "\n",
    "    ipport = 'http://'+ip+':'+port\n",
    "\n",
    "    config = configparser.ConfigParser()\n",
    "\n",
    "    config['SERVER DATA'] = {'server_address': ipport, 'secret': secret}\n",
    "    with open('config.ini', 'w') as configfile:\n",
    "\t\t\t\t\t\t\t\tconfig.write(configfile)\n",
    "    return ipport, secret"
   ]
  },
  {
   "cell_type": "markdown",
   "metadata": {},
   "source": [
    "# Validating server data"
   ]
  },
  {
   "cell_type": "code",
   "execution_count": 30,
   "metadata": {},
   "outputs": [],
   "source": [
    "def validateserverdata():\n",
    "\n",
    "    config = configparser.ConfigParser()\n",
    "    config.sections()\n",
    "    \n",
    "    try:\n",
    "        config.read('config_bt.ini')\n",
    "        logindata = config['SERVER DATA']\n",
    "        ipport = logindata.get('server_address')\n",
    "        secret = logindata.get('secret')\n",
    "        print(ipport, secret)\n",
    "        haasomeClient = HaasomeClient(ipport, secret)\n",
    "        if haasomeClient.test_credentials().errorCode != EnumErrorCode.SUCCESS:\n",
    "            print('\\n\\n\\n\\n\\n\\n\\n\\n')\n",
    "            print(haasomeClient.test_credentials().errorMessage)\n",
    "            print('\\nHave you enabled Local API in Haasonline Server Settings? \\nIMPORTANT: IP, PORT should have the same data as here, secret must show dots. \\nIf there are no dots in Secret, input them and hit SAVE button at the bottom of the page. \\n')\n",
    "            serverdata()\n",
    "        else: \n",
    "            print('\\n\\n\\n\\n\\n\\n\\n\\n')\n",
    "            print('Sucessfully connected to HaasOnline!')\n",
    "            return ipport, secret\n",
    "    except KeyError:\n",
    "        serverdata()\n",
    "    except FileNotFoundError:\n",
    "        currentfile = Path(str('config_bt.ini'))\n",
    "        currentfile.touch(exist_ok=True)\n",
    "        print('Config has been created!')\n",
    "        \n",
    "   \n",
    "        config.read('config_bt.ini')\n",
    "        logindata = config['SERVER DATA']\n",
    "        ipport = logindata.get('server_address')\n",
    "        secret = logindata.get('secret')\n",
    "    return ipport, secret"
   ]
  },
  {
   "cell_type": "markdown",
   "metadata": {},
   "source": [
    "# Setting BT intervals data: "
   ]
  },
  {
   "cell_type": "code",
   "execution_count": 36,
   "metadata": {},
   "outputs": [
    {
     "name": "stdout",
     "output_type": "stream",
     "text": [
      "Type full year here: 11\n",
      "Type full month here: 12\n",
      "Type full year here: 13\n",
      "Type full year here: 11\n",
      "Type full month here: 12\n",
      "Type full year here: 13\n",
      "Type full year here: 11\n",
      "Type full month here: 12\n",
      "Type full year here: 23\n"
     ]
    }
   ],
   "source": []
  },
  {
   "cell_type": "code",
   "execution_count": null,
   "metadata": {},
   "outputs": [],
   "source": []
  },
  {
   "cell_type": "code",
   "execution_count": null,
   "metadata": {},
   "outputs": [],
   "source": []
  }
 ],
 "metadata": {
  "kernelspec": {
   "display_name": "Python 3",
   "language": "python",
   "name": "python3"
  },
  "language_info": {
   "codemirror_mode": {
    "name": "ipython",
    "version": 3
   },
   "file_extension": ".py",
   "mimetype": "text/x-python",
   "name": "python",
   "nbconvert_exporter": "python",
   "pygments_lexer": "ipython3",
   "version": "3.7.1"
  }
 },
 "nbformat": 4,
 "nbformat_minor": 2
}
