{
 "cells": [
  {
   "cell_type": "code",
   "execution_count": 10,
   "metadata": {},
   "outputs": [
    {
     "ename": "SyntaxError",
     "evalue": "invalid token (configserver.py, line 79)",
     "output_type": "error",
     "traceback": [
      "Traceback \u001b[0;36m(most recent call last)\u001b[0m:\n",
      "  File \u001b[1;32m\"/Users/cosmos/Documents/dockerapp/.env/lib/python3.7/site-packages/IPython/core/interactiveshell.py\"\u001b[0m, line \u001b[1;32m3326\u001b[0m, in \u001b[1;35mrun_code\u001b[0m\n    exec(code_obj, self.user_global_ns, self.user_ns)\n",
      "  File \u001b[1;32m\"<ipython-input-10-814170b4d130>\"\u001b[0m, line \u001b[1;32m14\u001b[0m, in \u001b[1;35m<module>\u001b[0m\n    import init\n",
      "\u001b[0;36m  File \u001b[0;32m\"/Users/cosmos/Documents/dockerapp/init.py\"\u001b[0;36m, line \u001b[0;32m3\u001b[0;36m, in \u001b[0;35m<module>\u001b[0;36m\u001b[0m\n\u001b[0;31m    import configserver\u001b[0m\n",
      "\u001b[0;36m  File \u001b[0;32m\"/Users/cosmos/Documents/dockerapp/configserver.py\"\u001b[0;36m, line \u001b[0;32m79\u001b[0m\n\u001b[0;31m    if 1_bt_year != []:\u001b[0m\n\u001b[0m        ^\u001b[0m\n\u001b[0;31mSyntaxError\u001b[0m\u001b[0;31m:\u001b[0m invalid token\n"
     ]
    }
   ],
   "source": [
    "from __future__ import print_function, unicode_literals\n",
    "from haasomeapi.HaasomeClient import HaasomeClient\n",
    "from haasomeapi.enums.EnumErrorCode import EnumErrorCode\n",
    "\n",
    "\n",
    "import configparser\n",
    "import os\n",
    "import re\n",
    "import sys\n",
    "\n",
    "import time\n",
    "\n",
    "\n",
    "import init\n",
    "\n"
   ]
  },
  {
   "cell_type": "markdown",
   "metadata": {},
   "source": [
    "# Getting server data"
   ]
  },
  {
   "cell_type": "code",
   "execution_count": null,
   "metadata": {},
   "outputs": [],
   "source": [
    "def serverdata():\n",
    "\n",
    "    ip = input('Type Server IP address: ')\n",
    "    port = input('Type server port number: ')\n",
    "    secret = input('Type api key: ')\n",
    "\n",
    "    ipport = 'http://'+ip+':'+port\n",
    "\n",
    "    config = configparser.ConfigParser()\n",
    "    config['SERVER DATA'] = {'server_address': ipport, 'secret': secret}\n",
    "    with open('config.ini', 'w') as configfile:\n",
    "\t\t\t\t\t\t\t\tconfig.write(configfile)\n",
    "    return ipport, secret"
   ]
  },
  {
   "cell_type": "markdown",
   "metadata": {},
   "source": [
    "# Validating server data"
   ]
  },
  {
   "cell_type": "code",
   "execution_count": null,
   "metadata": {},
   "outputs": [],
   "source": [
    "def validateserverdata():\n",
    "\n",
    "    config = configparser.ConfigParser()\n",
    "    config.sections()\n",
    "    \n",
    "    try:\n",
    "        config.read('config.ini')\n",
    "        logindata = config['SERVER DATA']\n",
    "        ipport = logindata.get('server_address')\n",
    "        secret = logindata.get('secret')\n",
    "        print(ipport, secret)\n",
    "        haasomeClient = HaasomeClient(ipport, secret)\n",
    "        if haasomeClient.test_credentials().errorCode != EnumErrorCode.SUCCESS:\n",
    "            print('\\n\\n\\n\\n\\n\\n\\n\\n')\n",
    "            print(haasomeClient.test_credentials().errorMessage)\n",
    "            print('\\nHave you enabled Local API in Haasonline Server Settings? \\nIMPORTANT: IP, PORT should have the same data as here, secret must show dots. \\nIf there are no dots in Secret, input them and hit SAVE button at the bottom of the page. \\n')\n",
    "            serverdata()\n",
    "        else: \n",
    "            print('\\n\\n\\n\\n\\n\\n\\n\\n')\n",
    "            print('Sucessfully connected to HaasOnline!')\n",
    "            return ipport, secret\n",
    "    except KeyError:\n",
    "        serverdata()\n",
    "    except FileNotFoundError:\n",
    "        currentfile = Path(str('config.ini'))\n",
    "        currentfile.touch(exist_ok=True)\n",
    "        print('Config has been created!')\n",
    "    \n",
    "   \n",
    "        config.read('config.ini')\n",
    "        logindata = config['SERVER DATA']\n",
    "        ipport = logindata.get('server_address')\n",
    "        secret = logindata.get('secret')\n",
    "    return ipport, secret"
   ]
  },
  {
   "cell_type": "markdown",
   "metadata": {},
   "source": [
    "# Setting BT intervals data: "
   ]
  },
  {
   "cell_type": "code",
   "execution_count": 7,
   "metadata": {},
   "outputs": [
    {
     "ename": "NameError",
     "evalue": "name 'configparser' is not defined",
     "output_type": "error",
     "traceback": [
      "\u001b[0;31m---------------------------------------------------------------------------\u001b[0m",
      "\u001b[0;31mNameError\u001b[0m                                 Traceback (most recent call last)",
      "\u001b[0;32m<ipython-input-7-d986881071d9>\u001b[0m in \u001b[0;36m<module>\u001b[0;34m\u001b[0m\n\u001b[1;32m     17\u001b[0m \u001b[0;34m\u001b[0m\u001b[0m\n\u001b[1;32m     18\u001b[0m \u001b[0;32mif\u001b[0m \u001b[0m__name__\u001b[0m \u001b[0;34m==\u001b[0m \u001b[0;34m'__main__'\u001b[0m\u001b[0;34m:\u001b[0m\u001b[0;34m\u001b[0m\u001b[0;34m\u001b[0m\u001b[0m\n\u001b[0;32m---> 19\u001b[0;31m         \u001b[0mmain\u001b[0m\u001b[0;34m(\u001b[0m\u001b[0;34m)\u001b[0m\u001b[0;34m\u001b[0m\u001b[0;34m\u001b[0m\u001b[0m\n\u001b[0m",
      "\u001b[0;32m<ipython-input-7-d986881071d9>\u001b[0m in \u001b[0;36mmain\u001b[0;34m()\u001b[0m\n\u001b[1;32m     13\u001b[0m \u001b[0;32mdef\u001b[0m \u001b[0mmain\u001b[0m\u001b[0;34m(\u001b[0m\u001b[0;34m)\u001b[0m\u001b[0;34m:\u001b[0m\u001b[0;34m\u001b[0m\u001b[0;34m\u001b[0m\u001b[0m\n\u001b[1;32m     14\u001b[0m \u001b[0;34m\u001b[0m\u001b[0m\n\u001b[0;32m---> 15\u001b[0;31m         \u001b[0msetbtinterval\u001b[0m\u001b[0;34m(\u001b[0m\u001b[0;34m)\u001b[0m\u001b[0;34m\u001b[0m\u001b[0;34m\u001b[0m\u001b[0m\n\u001b[0m\u001b[1;32m     16\u001b[0m \u001b[0;34m\u001b[0m\u001b[0m\n\u001b[1;32m     17\u001b[0m \u001b[0;34m\u001b[0m\u001b[0m\n",
      "\u001b[0;32m<ipython-input-7-d986881071d9>\u001b[0m in \u001b[0;36msetbtinterval\u001b[0;34m()\u001b[0m\n\u001b[1;32m      1\u001b[0m \u001b[0;32mdef\u001b[0m \u001b[0msetbtinterval\u001b[0m\u001b[0;34m(\u001b[0m\u001b[0;34m)\u001b[0m\u001b[0;34m:\u001b[0m\u001b[0;34m\u001b[0m\u001b[0;34m\u001b[0m\u001b[0m\n\u001b[0;32m----> 2\u001b[0;31m     \u001b[0mconfig\u001b[0m \u001b[0;34m=\u001b[0m \u001b[0mconfigparser\u001b[0m\u001b[0;34m.\u001b[0m\u001b[0mConfigParser\u001b[0m\u001b[0;34m(\u001b[0m\u001b[0;34m)\u001b[0m\u001b[0;34m\u001b[0m\u001b[0;34m\u001b[0m\u001b[0m\n\u001b[0m\u001b[1;32m      3\u001b[0m     \u001b[0mconfig\u001b[0m\u001b[0;34m.\u001b[0m\u001b[0msections\u001b[0m\u001b[0;34m(\u001b[0m\u001b[0;34m)\u001b[0m\u001b[0;34m\u001b[0m\u001b[0;34m\u001b[0m\u001b[0m\n\u001b[1;32m      4\u001b[0m     \u001b[0myear\u001b[0m \u001b[0;34m=\u001b[0m \u001b[0;34m[\u001b[0m\u001b[0;34m]\u001b[0m\u001b[0;34m\u001b[0m\u001b[0;34m\u001b[0m\u001b[0m\n\u001b[1;32m      5\u001b[0m     \u001b[0mmonth\u001b[0m \u001b[0;34m=\u001b[0m\u001b[0;34m[\u001b[0m\u001b[0;34m]\u001b[0m\u001b[0;34m\u001b[0m\u001b[0;34m\u001b[0m\u001b[0m\n",
      "\u001b[0;31mNameError\u001b[0m: name 'configparser' is not defined"
     ]
    }
   ],
   "source": [
    "def setbtinterval():\n",
    "    config = configparser.ConfigParser()\n",
    "    config.sections() \n",
    "    year = []\n",
    "    month =[]\n",
    "    day = []\n",
    "    config.read('config.ini')\n",
    "    logindata = config['BT_VARS']\n",
    "    year_1 = logindata.get('year_1')\n",
    "    month_1 = logindata.get('month_1')\n",
    "\n",
    "        \n",
    "def main():\n",
    "    \n",
    "\tsetbtinterval()\n",
    "\n",
    "\n",
    "if __name__ == '__main__':\n",
    "\tmain()\n"
   ]
  },
  {
   "cell_type": "code",
   "execution_count": null,
   "metadata": {},
   "outputs": [],
   "source": []
  }
 ],
 "metadata": {
  "kernelspec": {
   "display_name": "Python 3",
   "language": "python",
   "name": "python3"
  },
  "language_info": {
   "codemirror_mode": {
    "name": "ipython",
    "version": 3
   },
   "file_extension": ".py",
   "mimetype": "text/x-python",
   "name": "python",
   "nbconvert_exporter": "python",
   "pygments_lexer": "ipython3",
   "version": "3.7.1"
  }
 },
 "nbformat": 4,
 "nbformat_minor": 2
}
